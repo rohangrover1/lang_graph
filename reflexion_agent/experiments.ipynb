{
 "cells": [
  {
   "cell_type": "code",
   "execution_count": 14,
   "id": "827adfbf",
   "metadata": {},
   "outputs": [],
   "source": [
    "from langchain.prompts import ChatPromptTemplate, MessagesPlaceholder\n",
    "import datetime\n",
    "from langchain_openai import ChatOpenAI\n",
    "from localschema import AnswerQuestion, ReviseAnswer\n",
    "from langchain_core.output_parsers.openai_tools import PydanticToolsParser, JsonOutputToolsParser\n",
    "from langchain_core.messages import HumanMessage\n",
    "from dotenv import load_dotenv, find_dotenv\n",
    "from langchain_core.runnables import Runnable, chain\n",
    "import os\n"
   ]
  },
  {
   "cell_type": "code",
   "execution_count": 2,
   "id": "e586ed20",
   "metadata": {},
   "outputs": [],
   "source": [
    "_ = load_dotenv(find_dotenv())\n",
    "os.environ[\"LANGSMITH_TRACING\"] = \"true\"\n",
    "os.environ[\"LANGSMITH_PROJECT\"] = \"default\""
   ]
  },
  {
   "cell_type": "code",
   "execution_count": 3,
   "id": "2457f848",
   "metadata": {},
   "outputs": [],
   "source": [
    "pydantic_parser = PydanticToolsParser(tools=[AnswerQuestion])\n",
    "parser = JsonOutputToolsParser(return_id=True)"
   ]
  },
  {
   "cell_type": "code",
   "execution_count": 4,
   "id": "07cf8b8f",
   "metadata": {},
   "outputs": [],
   "source": [
    "# Actor Agent Prompt \n",
    "actor_prompt_template = ChatPromptTemplate.from_messages(\n",
    "    [\n",
    "        (\n",
    "            \"system\",\n",
    "            \"\"\"You are expert AI researcher.\n",
    "Current time: {time}\n",
    "\n",
    "1. {first_instruction}\n",
    "2. Reflect and critique your answer. Be severe to maximize improvement.\n",
    "3. After the reflection, **list 1-3 search queries separately** for researching improvements. Do not include them inside the reflection.\n",
    "\"\"\",\n",
    "        ),\n",
    "        MessagesPlaceholder(variable_name=\"messages\"),\n",
    "        (\"system\", \"Answer the user's question above using the required format.\"),\n",
    "    ]\n",
    ").partial(\n",
    "    time=lambda: datetime.datetime.now().isoformat(),\n",
    ")\n"
   ]
  },
  {
   "cell_type": "code",
   "execution_count": 5,
   "id": "a09a18b5",
   "metadata": {},
   "outputs": [],
   "source": [
    "first_responder_prompt_template = actor_prompt_template.partial(\n",
    "    first_instruction=\"Provide a detailed ~250 word answer\"\n",
    ")"
   ]
  },
  {
   "cell_type": "code",
   "execution_count": 6,
   "id": "57aea2bb",
   "metadata": {},
   "outputs": [],
   "source": [
    "llm = ChatOpenAI(model=\"gpt-4o-mini\")"
   ]
  },
  {
   "cell_type": "code",
   "execution_count": 7,
   "id": "2fac1b8f",
   "metadata": {},
   "outputs": [],
   "source": [
    "first_responder_chain = first_responder_prompt_template | llm.bind_tools(tools=[AnswerQuestion], tool_choice='AnswerQuestion') | pydantic_parser\n"
   ]
  },
  {
   "cell_type": "code",
   "execution_count": 8,
   "id": "0f6ac0f8",
   "metadata": {},
   "outputs": [
    {
     "name": "stdout",
     "output_type": "stream",
     "text": [
      "[AnswerQuestion(answer=\"When discussing the most famous Formula 1 driver of all time, many enthusiasts point to Michael Schumacher. Renowned for his extraordinary skill, determination, and record-breaking achievements, Schumacher's impact on the sport is unparalleled.\\n\\nMichael Schumacher, born on January 3, 1969, in Germany, made his Formula 1 debut in 1991. His career spanned over two decades, and he raced for several teams, most notably Benetton and Ferrari. Schumacher's affinity for speed and tactical driving made him a formidable competitor, and he quickly rose to prominence.\\n\\nSchumacher holds numerous records in Formula 1, including seven World Drivers' Championships—tied with Lewis Hamilton. He also claimed a staggering 91 race victories, many of which came in consecutive seasons, demonstrating his dominance in the sport. \\n\\nHis tenure at Ferrari is legendary, where he led the team to unprecedented success, contributing to a golden era in F1. Schumacher's meticulous approach to racing, coupled with an exceptional work ethic, set new standards within the team and the sport.\\n\\nBeyond statistics, Schumacher’s charisma and sportsmanship resonated with fans worldwide, further elevating his status in the sport. His tragic skiing accident in 2013 has shifted the narrative to a more somber tone, yet his legacy remains a monumental part of Formula One history.\\n\\nUltimately, while many drivers have left their mark on the sport, Michael Schumacher’s combination of records, personal story, and enduring influence cements him as the most famous Formula 1 driver of all time.\", search_queries=['Michael Schumacher impact on Formula 1', 'most famous Formula 1 drivers comparison', 'history of Formula 1 champions'], reflection=Reflection(missing=\"The answer could have included more personal anecdotes or insights from Schumacher's life that highlight his personality and struggles, which would create a stronger emotional connection.\", superfluous='Some details about his early career could be minimized, as the focus should be primarily on his legacy and influence rather than his entire career timeline.'))]\n"
     ]
    }
   ],
   "source": [
    "#playing with the first responder chain\n",
    "# response = first_responder_chain.invoke({\n",
    "#     \"messages\": [HumanMessage(\"Create a blog post about the plane crash in India that happened in June 2025\")]      # this hallucinates\n",
    "# })\n",
    "response = first_responder_chain.invoke({\n",
    "    \"messages\": [HumanMessage(\"Write a blog post about the most famous Formula 1 driver of all time\")]      \n",
    "})\n",
    "print(response)"
   ]
  },
  {
   "cell_type": "code",
   "execution_count": null,
   "id": "fe566c37",
   "metadata": {},
   "outputs": [
    {
     "name": "stdout",
     "output_type": "stream",
     "text": [
      "       +-------------+         \n",
      "       | PromptInput |         \n",
      "       +-------------+         \n",
      "              *                \n",
      "              *                \n",
      "              *                \n",
      "    +--------------------+     \n",
      "    | ChatPromptTemplate |     \n",
      "    +--------------------+     \n",
      "              *                \n",
      "              *                \n",
      "              *                \n",
      "        +------------+         \n",
      "        | ChatOpenAI |         \n",
      "        +------------+         \n",
      "              *                \n",
      "              *                \n",
      "              *                \n",
      "   +---------------------+     \n",
      "   | PydanticToolsParser |     \n",
      "   +---------------------+     \n",
      "              *                \n",
      "              *                \n",
      "              *                \n",
      "+---------------------------+  \n",
      "| PydanticToolsParserOutput |  \n",
      "+---------------------------+  \n"
     ]
    }
   ],
   "source": [
    "# Get and print the graph of the chain\n",
    "graph = first_responder_chain.get_graph()\n",
    "graph.print_ascii()"
   ]
  },
  {
   "cell_type": "code",
   "execution_count": 38,
   "id": "577fdbde",
   "metadata": {},
   "outputs": [
    {
     "name": "stdout",
     "output_type": "stream",
     "text": [
      "<class 'list'>\n",
      "answer=\"When discussing the most famous Formula 1 driver of all time, many enthusiasts point to Michael Schumacher. Renowned for his extraordinary skill, determination, and record-breaking achievements, Schumacher's impact on the sport is unparalleled.\\n\\nMichael Schumacher, born on January 3, 1969, in Germany, made his Formula 1 debut in 1991. His career spanned over two decades, and he raced for several teams, most notably Benetton and Ferrari. Schumacher's affinity for speed and tactical driving made him a formidable competitor, and he quickly rose to prominence.\\n\\nSchumacher holds numerous records in Formula 1, including seven World Drivers' Championships—tied with Lewis Hamilton. He also claimed a staggering 91 race victories, many of which came in consecutive seasons, demonstrating his dominance in the sport. \\n\\nHis tenure at Ferrari is legendary, where he led the team to unprecedented success, contributing to a golden era in F1. Schumacher's meticulous approach to racing, coupled with an exceptional work ethic, set new standards within the team and the sport.\\n\\nBeyond statistics, Schumacher’s charisma and sportsmanship resonated with fans worldwide, further elevating his status in the sport. His tragic skiing accident in 2013 has shifted the narrative to a more somber tone, yet his legacy remains a monumental part of Formula One history.\\n\\nUltimately, while many drivers have left their mark on the sport, Michael Schumacher’s combination of records, personal story, and enduring influence cements him as the most famous Formula 1 driver of all time.\" search_queries=['Michael Schumacher impact on Formula 1', 'most famous Formula 1 drivers comparison', 'history of Formula 1 champions'] reflection=Reflection(missing=\"The answer could have included more personal anecdotes or insights from Schumacher's life that highlight his personality and struggles, which would create a stronger emotional connection.\", superfluous='Some details about his early career could be minimized, as the focus should be primarily on his legacy and influence rather than his entire career timeline.')\n"
     ]
    }
   ],
   "source": [
    "# Get and print the prompts\n",
    "print(type(response))\n",
    "for item in response:\n",
    "    print(item)"
   ]
  }
 ],
 "metadata": {
  "kernelspec": {
   "display_name": ".venv",
   "language": "python",
   "name": "python3"
  },
  "language_info": {
   "codemirror_mode": {
    "name": "ipython",
    "version": 3
   },
   "file_extension": ".py",
   "mimetype": "text/x-python",
   "name": "python",
   "nbconvert_exporter": "python",
   "pygments_lexer": "ipython3",
   "version": "3.10.14"
  }
 },
 "nbformat": 4,
 "nbformat_minor": 5
}
