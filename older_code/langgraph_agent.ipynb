{
 "cells": [
  {
   "cell_type": "markdown",
   "metadata": {},
   "source": [
    "# Lesson 2 : LangGraph Components"
   ]
  },
  {
   "cell_type": "code",
   "execution_count": 1,
   "metadata": {},
   "outputs": [],
   "source": [
    "from dotenv import load_dotenv, find_dotenv\n",
    "from langgraph.graph import StateGraph, END\n",
    "from typing import TypedDict, Annotated\n",
    "import operator\n",
    "from langchain_core.messages import AnyMessage, SystemMessage, HumanMessage, ToolMessage\n",
    "from langchain_openai import ChatOpenAI\n",
    "from langchain_community.tools.tavily_search import TavilySearchResults"
   ]
  },
  {
   "cell_type": "code",
   "execution_count": 3,
   "metadata": {},
   "outputs": [],
   "source": [
    "_ = load_dotenv(find_dotenv())"
   ]
  },
  {
   "cell_type": "code",
   "execution_count": 4,
   "metadata": {},
   "outputs": [
    {
     "name": "stdout",
     "output_type": "stream",
     "text": [
      "<class 'langchain_community.tools.tavily_search.tool.TavilySearchResults'>\n",
      "tavily_search_results_json\n"
     ]
    }
   ],
   "source": [
    "tool = TavilySearchResults(max_results=4) #increased number of results\n",
    "print(type(tool))\n",
    "print(tool.name)"
   ]
  },
  {
   "cell_type": "code",
   "execution_count": 5,
   "metadata": {},
   "outputs": [],
   "source": [
    "class AgentState(TypedDict):\n",
    "    messages: Annotated[list[AnyMessage], operator.add]"
   ]
  },
  {
   "cell_type": "markdown",
   "metadata": {},
   "source": [
    "> Note: in `take_action` below, some logic was added to cover the case that the LLM returned a non-existent tool name. Even with function calling, LLMs can still occasionally hallucinate. Note that all that is done is instructing the LLM to try again! An advantage of an agentic organization."
   ]
  },
  {
   "cell_type": "code",
   "execution_count": 6,
   "metadata": {},
   "outputs": [],
   "source": [
    "class Agent:\n",
    "\n",
    "    def __init__(self, model, tools, system=\"\"):\n",
    "        self.system = system\n",
    "        graph = StateGraph(AgentState)\n",
    "        graph.add_node(\"llm\", self.call_openai)\n",
    "        graph.add_node(\"action\", self.take_action)\n",
    "        graph.add_conditional_edges(\n",
    "            \"llm\",\n",
    "            self.exists_action,\n",
    "            {True: \"action\", False: END}\n",
    "        )\n",
    "        graph.add_edge(\"action\", \"llm\")\n",
    "        graph.set_entry_point(\"llm\")\n",
    "        self.graph = graph.compile()\n",
    "        self.tools = {t.name: t for t in tools}\n",
    "        self.model = model.bind_tools(tools)\n",
    "\n",
    "    def exists_action(self, state: AgentState):\n",
    "        result = state['messages'][-1]\n",
    "        return len(result.tool_calls) > 0\n",
    "\n",
    "    def call_openai(self, state: AgentState):\n",
    "        messages = state['messages']\n",
    "        if self.system:\n",
    "            messages = [SystemMessage(content=self.system)] + messages\n",
    "        message = self.model.invoke(messages)\n",
    "        return {'messages': [message]}\n",
    "\n",
    "    def take_action(self, state: AgentState):\n",
    "        tool_calls = state['messages'][-1].tool_calls\n",
    "        results = []\n",
    "        for t in tool_calls:\n",
    "            print(f\"Calling: {t}\")\n",
    "            if not t['name'] in self.tools:      # check for bad tool name from LLM\n",
    "                print(\"\\n ....bad tool name....\")\n",
    "                result = \"bad tool name, retry\"  # instruct LLM to retry if bad\n",
    "            else:\n",
    "                result = self.tools[t['name']].invoke(t['args'])\n",
    "            results.append(ToolMessage(tool_call_id=t['id'], name=t['name'], content=str(result)))\n",
    "        print(\"Back to the model!\")\n",
    "        return {'messages': results}"
   ]
  },
  {
   "cell_type": "code",
   "execution_count": 7,
   "metadata": {},
   "outputs": [],
   "source": [
    "prompt = \"\"\"You are a smart research assistant. Use the search engine to look up information. \\\n",
    "You are allowed to make multiple calls (either together or in sequence). \\\n",
    "Only look up information when you are sure of what you want. \\\n",
    "If you need to look up some information before asking a follow up question, you are allowed to do that!\n",
    "\"\"\"\n",
    "\n",
    "model = ChatOpenAI(model=\"gpt-3.5-turbo\")  #reduce inference cost\n",
    "abot = Agent(model, [tool], system=prompt)"
   ]
  },
  {
   "cell_type": "code",
   "execution_count": 8,
   "metadata": {},
   "outputs": [
    {
     "data": {
      "image/png": "[encoded data removed]",
      "text/plain": [
       "<IPython.core.display.Image object>"
      ]
     },
     "execution_count": 8,
     "metadata": {},
     "output_type": "execute_result"
    }
   ],
   "source": [
    "from IPython.display import Image\n",
    "\n",
    "Image(abot.graph.get_graph().draw_png())"
   ]
  },
  {
   "cell_type": "code",
   "execution_count": 9,
   "metadata": {},
   "outputs": [
    {
     "name": "stdout",
     "output_type": "stream",
     "text": [
      "Calling: {'name': 'tavily_search_results_json', 'args': {'query': 'weather in SF'}, 'id': 'call_5vHPuCjTcMnwg9qpcS1BPlIc'}\n",
      "Back to the model!\n"
     ]
    }
   ],
   "source": [
    "messages = [HumanMessage(content=\"What is the weather in sf?\")]\n",
    "result = abot.graph.invoke({\"messages\": messages})"
   ]
  },
  {
   "cell_type": "code",
   "execution_count": 10,
   "metadata": {},
   "outputs": [
    {
     "data": {
      "text/plain": [
       "{'messages': [HumanMessage(content='What is the weather in sf?'),\n",
       "  AIMessage(content='', additional_kwargs={'tool_calls': [{'id': 'call_5vHPuCjTcMnwg9qpcS1BPlIc', 'function': {'arguments': '{\"query\":\"weather in SF\"}', 'name': 'tavily_search_results_json'}, 'type': 'function'}]}, response_metadata={'token_usage': {'completion_tokens': 21, 'prompt_tokens': 153, 'total_tokens': 174, 'prompt_tokens_details': {'cached_tokens': 0, 'audio_tokens': 0}, 'completion_tokens_details': {'reasoning_tokens': 0, 'audio_tokens': 0, 'accepted_prediction_tokens': 0, 'rejected_prediction_tokens': 0}}, 'model_name': 'gpt-3.5-turbo', 'system_fingerprint': None, 'finish_reason': 'tool_calls', 'logprobs': None}, id='run-6ce7347f-8e25-4462-9cb5-7a221374c4f9-0', tool_calls=[{'name': 'tavily_search_results_json', 'args': {'query': 'weather in SF'}, 'id': 'call_5vHPuCjTcMnwg9qpcS1BPlIc'}]),\n",
       "  ToolMessage(content='[{\\'url\\': \\'https://www.weatherapi.com/\\', \\'content\\': \"{\\'location\\': {\\'name\\': \\'San Francisco\\', \\'region\\': \\'California\\', \\'country\\': \\'United States of America\\', \\'lat\\': 37.775, \\'lon\\': -122.4183, \\'tz_id\\': \\'America/Los_Angeles\\', \\'localtime_epoch\\': 1746151505, \\'localtime\\': \\'2025-05-01 19:05\\'}, \\'current\\': {\\'last_updated_epoch\\': 1746151200, \\'last_updated\\': \\'2025-05-01 19:00\\', \\'temp_c\\': 11.3, \\'temp_f\\': 52.3, \\'is_day\\': 1, \\'condition\\': {\\'text\\': \\'Mist\\', \\'icon\\': \\'//cdn.weatherapi.com/weather/64x64/day/143.png\\', \\'code\\': 1030}, \\'wind_mph\\': 12.3, \\'wind_kph\\': 19.8, \\'wind_degree\\': 249, \\'wind_dir\\': \\'WSW\\', \\'pressure_mb\\': 1015.0, \\'pressure_in\\': 29.97, \\'precip_mm\\': 0.0, \\'precip_in\\': 0.0, \\'humidity\\': 94, \\'cloud\\': 100, \\'feelslike_c\\': 9.0, \\'feelslike_f\\': 48.3, \\'windchill_c\\': 8.5, \\'windchill_f\\': 47.3, \\'heatindex_c\\': 10.3, \\'heatindex_f\\': 50.5, \\'dewpoint_c\\': 9.5, \\'dewpoint_f\\': 49.1, \\'vis_km\\': 8.0, \\'vis_miles\\': 4.0, \\'uv\\': 0.3, \\'gust_mph\\': 16.6, \\'gust_kph\\': 26.7}}\"}, {\\'url\\': \\'https://weatherspark.com/h/m/557/2025/2/Historical-Weather-in-February-2025-in-San-Francisco-California-United-States\\', \\'content\\': \\'Wed, Feb 5, 2025\\\\xa0\\\\xa0\\\\xa0\\\\xa022 min ago\\\\xa0\\\\xa0\\\\xa0\\\\xa0UTC 22:56\\\\nCall Sign KSFO\\\\nTemp.\\\\n55.9\\\\n°F\\\\ncool\\\\nDew Pt. 41.0°F\\\\xa0\\\\xa0dry\\\\nRel. Humidity   57%\\\\nPrecipitation\\\\nNo Report\\\\nWind\\\\n5.8\\\\nmph\\\\nlight breeze\\\\nWind Dir.   10 deg, N\\\\nCloud Cover\\\\nMostly Clear 3,500 ft\\\\nVis.    10.00 mi or greater\\\\nAlt.    30.09 inHg\\\\nRaw: KSFO 052256Z 01005KT 10SM FEW035 13/05 A3009 RMK AO2 SLP188 T01330050 [...] 2%  6:11 AM ESE 4:44 PM WSW -   11:27 AM    S   229,455 mi\\\\n27\\\\n    0%  6:42 AM ESE 5:58 PM WSW -   12:19 PM    S   226,959 mi\\\\n28\\\\n    1%  7:10 AM E   7:12 PM W   -   1:09 PM S   225,413 mi\\\\nHumidity Comfort Levels in February 2025 in San Francisco\\\\n Winter 2025\\\\nLink\\\\nDownload\\\\nCompare\\\\nAverages\\\\nHistory:\\\\nJ\\\\nFeb\\\\nM\\\\nA\\\\nM\\\\nJ\\\\nJ\\\\nA\\\\nS\\\\nO\\\\nN\\\\nD\\\\n2024\\\\n2023\\\\n2022\\\\n2021\\\\n1\\\\n8\\\\n15\\\\n22\\\\n1\\\\n1\\\\n2\\\\n2\\\\n3\\\\n3\\\\n4\\\\n4\\\\n5\\\\n5\\\\n12 AM\\\\n12 AM\\\\n3 AM\\\\n3 AM\\\\n6 AM\\\\n6 AM\\\\n9 AM\\\\n9 AM\\\\n12 PM\\\\n12 PM\\\\n3 PM\\\\n3 PM\\\\n6 PM\\\\n6 PM\\\\n9 PM\\\\n9 PM\\\\n12 AM\\\\n12 AM\\\\nJan\\\\nMar\\\\nNow\\\\nNow\\\\ndry\\\\n55°F [...] comfortable\\\\n60°F\\\\nhumid\\\\n65°F\\\\nmuggy\\\\n70°F\\\\noppressive\\\\n75°F\\\\nmiserable\\\\nThe hourly reported humidity comfort level, categorized by dew point. The shaded overlays indicate night and civil twilight.\\\\nWind Speed in February 2025 in San Francisco\\\\n Winter 2025\\\\nLink\\\\nDownload\\\\nCompare\\\\nAverages\\\\nHistory:\\\\nJ\\\\nFeb\\\\nM\\\\nA\\\\nM\\\\nJ\\\\nJ\\\\nA\\\\nS\\\\nO\\\\nN\\\\nD\\\\n2024\\\\n2023\\\\n2022\\\\n2021\\\\n1\\\\n8\\\\n15\\\\n22\\\\n1\\\\n1\\\\n2\\\\n2\\\\n3\\\\n3\\\\n4\\\\n4\\\\n5\\\\n5\\\\n0 mph\\\\n0 mph\\\\n10 mph\\\\n10 mph\\\\n20 mph\\\\n20 mph\\\\n30 mph\\\\n30 mph\\\\n40 mph\\\\n40 mph\\\\n50 mph\\\\n50 mph\\\\nJan\\\\nMar\\\\nNow\\\\nNow\\'}, {\\'url\\': \\'https://world-weather.info/forecast/usa/san_francisco/february-2025/\\', \\'content\\': \\'Weather in San Francisco in February 2025 (California) - Detailed Weather Forecast for a Month\\\\n\\\\nAdd the current city\\\\nSearch\\\\n\\\\nWeather\\\\nArchive\\\\nWidgets\\\\n\\\\n°F\\\\n\\\\nWorld\\\\nUnited States\\\\nCalifornia\\\\nWeather in San Francisco\\\\n\\\\nWeather in San Francisco in February 2025\\\\nSan Francisco Weather Forecast for February 2025 is based on statistical data.\\\\n201520162017201820192020202120222023202420252026\\\\nJanFebMarAprMayJunJulAugSepOctNovDec\\\\nFebruary\\\\nStart Week On\\\\nSunday\\\\nMonday\\\\n\\\\nSun\\\\nMon\\\\nTue\\\\nWed\\\\nThu\\\\nFri\\\\n\\\\nSat\\\\n\\\\n\\\\n1 +59°+55° [...] 2 +59°+59°\\\\n3 +61°+57°\\\\n4 +59°+57°\\\\n5 +55°+46°\\\\n6 +59°+46°\\\\n7 +55°+52°\\\\n8 +55°+46°\\\\n9 +55°+45°\\\\n10 +55°+43°\\\\n11 +52°+43°\\\\n12 +54°+45°\\\\n13 +57°+52°\\\\n14 +55°+54°\\\\n15 +57°+45°\\\\n16 +57°+48°\\\\n17 +57°+50°\\\\n18 +59°+48°\\\\n19 +59°+50°\\\\n20 +63°+48°\\\\n21 +63°+46°\\\\n22 +59°+46°\\\\n23 +61°+50°\\\\n24 +61°+54°\\\\n25 +63°+52°\\\\n26 +68°+48°\\\\n27 +70°+50°\\\\n28 +66°+54° [...] Average weather in February 2025\\\\n5 days\\\\nPrecipitation\\\\n12 days\\\\nCloudy\\\\n11 days\\\\nSunny\\\\nDay\\\\n+59\\\\n°F\\\\nNight\\\\n+50\\\\n°F\\\\nCompare with another month\\\\nExtended weather forecast in San Francisco\\\\nHourlyWeek10-Day14-Day30-DayYear\\'}, {\\'url\\': \\'https://www.timeanddate.com/weather/usa/san-francisco\\', \\'content\\': \\'Home \\\\xa0 Weather \\\\xa0 USA \\\\xa0 San Francisco\\\\nWeather in San Francisco, California, USA\\\\nTime/General\\\\nWeather\\\\nTime Zone\\\\nDST Changes\\\\nSun & Moon\\\\nWeather TodayWeather Hourly14 Day ForecastYesterday/Past WeatherClimate (Averages)\\\\nNow\\\\n49\\\\xa0°F\\\\nPassing clouds.\\\\nFeels Like: 47\\\\xa0°F\\\\nForecast: 56 / 44\\\\xa0°F\\\\nWind: 5 mph ↑ from North\\\\nLocation:   San Francisco International Airport\\\\nCurrent Time:   Feb 8, 2025 at 10:18:16 am\\\\nLatest Report:  Feb 8, 2025 at 8:56 am\\\\nVisibility: 10\\\\xa0mi\\\\nPressure:   30.37 \"Hg\\\\nHumidity:   80% [...] * Updated Saturday, February 8, 2025 5:42:54 am San Francisco time - Weather by CustomWeather, © 2025\\\\n14 day forecast, day-by-day\\\\nHour-by-hour forecast for next week\\\\nYesterday\\\\\\'s weather\\\\nPassing clouds. 57 / 48\\\\xa0°F\\\\nHumidity: 89%. Wind: 7 mph ↑ from Northwest\\\\nMore weather last week\\\\nCurrently at nearby stations\\\\n47\\\\xa0°F\\\\nMetro Oakland International Airport: (12\\\\xa0mi)\\\\nPassing clouds. (1 hour ago)\\\\n48\\\\xa0°F\\\\nHayward Air Terminal: (18\\\\xa0mi)\\\\nSunny. (1 hour ago)\\\\n46\\\\xa0°F\\\\nSan Carlos Airport: (21\\\\xa0mi)\\\\nSunny. (1 hour ago)\\'}]', name='tavily_search_results_json', tool_call_id='call_5vHPuCjTcMnwg9qpcS1BPlIc'),\n",
       "  AIMessage(content='The current weather in San Francisco is as follows:\\n- Temperature: 52.3°F (11.3°C)\\n- Condition: Mist\\n- Wind: 12.3 mph (19.8 km/h) from WSW\\n- Humidity: 94%\\n- Pressure: 29.97 in\\n- Visibility: 4.0 miles\\n- UV Index: 0.3\\n\\nIs there anything else you would like to know about the weather in San Francisco?', response_metadata={'token_usage': {'completion_tokens': 100, 'prompt_tokens': 2115, 'total_tokens': 2215, 'prompt_tokens_details': {'cached_tokens': 0, 'audio_tokens': 0}, 'completion_tokens_details': {'reasoning_tokens': 0, 'audio_tokens': 0, 'accepted_prediction_tokens': 0, 'rejected_prediction_tokens': 0}}, 'model_name': 'gpt-3.5-turbo', 'system_fingerprint': None, 'finish_reason': 'stop', 'logprobs': None}, id='run-37c718cf-8c11-4918-9611-a33ccf42d1f8-0')]}"
      ]
     },
     "execution_count": 10,
     "metadata": {},
     "output_type": "execute_result"
    }
   ],
   "source": [
    "result"
   ]
  },
  {
   "cell_type": "code",
   "execution_count": 11,
   "metadata": {},
   "outputs": [
    {
     "data": {
      "text/plain": [
       "'The current weather in San Francisco is as follows:\\n- Temperature: 52.3°F (11.3°C)\\n- Condition: Mist\\n- Wind: 12.3 mph (19.8 km/h) from WSW\\n- Humidity: 94%\\n- Pressure: 29.97 in\\n- Visibility: 4.0 miles\\n- UV Index: 0.3\\n\\nIs there anything else you would like to know about the weather in San Francisco?'"
      ]
     },
     "execution_count": 11,
     "metadata": {},
     "output_type": "execute_result"
    }
   ],
   "source": [
    "result['messages'][-1].content"
   ]
  },
  {
   "cell_type": "code",
   "execution_count": 12,
   "metadata": {},
   "outputs": [
    {
     "name": "stdout",
     "output_type": "stream",
     "text": [
      "Calling: {'name': 'tavily_search_results_json', 'args': {'query': 'weather in San Francisco'}, 'id': 'call_69PcIopWtPCTMR1CwductUa1'}\n",
      "Calling: {'name': 'tavily_search_results_json', 'args': {'query': 'weather in Los Angeles'}, 'id': 'call_Ru7fQG8e0tI8Oe2nsgycVaLM'}\n",
      "Back to the model!\n"
     ]
    }
   ],
   "source": [
    "messages = [HumanMessage(content=\"What is the weather in SF and LA?\")]\n",
    "result = abot.graph.invoke({\"messages\": messages})"
   ]
  },
  {
   "cell_type": "code",
   "execution_count": 13,
   "metadata": {},
   "outputs": [
    {
     "data": {
      "text/plain": [
       "'The weather in San Francisco is currently cloudy with overcast skies. The daytime temperature is around 57°F and drops to 46°F at night. In Los Angeles, it is currently passing clouds with a temperature of 61°F. The forecast for Los Angeles shows a range of 66°F to 46°F with a wind speed of 12 mph from the west.'"
      ]
     },
     "execution_count": 13,
     "metadata": {},
     "output_type": "execute_result"
    }
   ],
   "source": [
    "result['messages'][-1].content"
   ]
  },
  {
   "cell_type": "code",
   "execution_count": 14,
   "metadata": {},
   "outputs": [
    {
     "name": "stdout",
     "output_type": "stream",
     "text": [
      "Calling: {'name': 'tavily_search_results_json', 'args': {'query': 'Super Bowl 2024 winner'}, 'id': 'call_pU2Rr8g1yg9pRRPfvMtxhHee'}\n",
      "Back to the model!\n",
      "Calling: {'name': 'tavily_search_results_json', 'args': {'query': 'Kansas City Chiefs headquarters location'}, 'id': 'call_k2eDMXte6VMsWug6HnfFZn0n'}\n",
      "Calling: {'name': 'tavily_search_results_json', 'args': {'query': 'Missouri GDP 2024'}, 'id': 'call_gtbafa1jiVc9N8vDCluXVJtL'}\n",
      "Back to the model!\n"
     ]
    }
   ],
   "source": [
    "# Note, the query was modified to produce more consistent results. \n",
    "# Results may vary per run and over time as search information and models change.\n",
    "\n",
    "query = \"Who won the super bowl in 2024? In what state is the winning team headquarters located? \\\n",
    "What is the GDP of that state? Answer each question.\" \n",
    "messages = [HumanMessage(content=query)]\n",
    "\n",
    "model = ChatOpenAI(model=\"gpt-4o\")  # requires more advanced model\n",
    "abot = Agent(model, [tool], system=prompt)\n",
    "result = abot.graph.invoke({\"messages\": messages})"
   ]
  },
  {
   "cell_type": "code",
   "execution_count": 15,
   "metadata": {},
   "outputs": [
    {
     "name": "stdout",
     "output_type": "stream",
     "text": [
      "1. The Kansas City Chiefs won the Super Bowl in 2024, defeating the San Francisco 49ers 25-22 in overtime.\n",
      "\n",
      "2. The headquarters of the Kansas City Chiefs is located in Kansas City, Missouri.\n",
      "\n",
      "3. As of the third quarter of 2024, Missouri's GDP was approximately $455 billion.\n"
     ]
    }
   ],
   "source": [
    "print(result['messages'][-1].content)"
   ]
  }
 ],
 "metadata": {
  "kernelspec": {
   "display_name": ".venv",
   "language": "python",
   "name": "python3"
  },
  "language_info": {
   "codemirror_mode": {
    "name": "ipython",
    "version": 3
   },
   "file_extension": ".py",
   "mimetype": "text/x-python",
   "name": "python",
   "nbconvert_exporter": "python",
   "pygments_lexer": "ipython3",
   "version": "3.10.14"
  }
 },
 "nbformat": 4,
 "nbformat_minor": 2
}
