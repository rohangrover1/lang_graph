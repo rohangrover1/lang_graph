{
 "cells": [
  {
   "cell_type": "code",
   "execution_count": 1,
   "id": "d05c9b6c",
   "metadata": {},
   "outputs": [],
   "source": [
    "from dotenv import load_dotenv, find_dotenv\n",
    "from typing import TypedDict, Annotated\n",
    "from langchain_core.messages import AnyMessage, SystemMessage, HumanMessage, ToolMessage\n",
    "from langchain_openai import ChatOpenAI\n",
    "from langchain_community.tools.tavily_search import TavilySearchResults\n",
    "import os\n",
    "import getpass\n",
    "from langchain_core.prompts import ChatPromptTemplate\n",
    "import sys"
   ]
  },
  {
   "cell_type": "code",
   "execution_count": 2,
   "id": "0a3243ad",
   "metadata": {},
   "outputs": [],
   "source": [
    "# set the envionment variables\n",
    "_ = load_dotenv(find_dotenv())\n",
    "os.environ[\"LANGSMITH_TRACING\"] = \"true\"\n",
    "if \"LANGCHAIN_API_KEY\" not in os.environ:\n",
    "    os.environ[\"LANGCHAIN_API_KEY\"] = getpass.getpass(\n",
    "        prompt=\"Enter your LangSmith API key (optional): \"\n",
    "    )\n",
    "\n",
    "os.environ[\"LANGSMITH_PROJECT\"] = \"default\"\n",
    "# if \"LANGSMITH_PROJECT\" not in os.environ:\n",
    "#     os.environ[\"LANGSMITH_PROJECT\"] = getpass.getpass(\n",
    "#         prompt='Enter your LangSmith Project Name (default = \"default\"): '\n",
    "#     )\n",
    "#     if not os.environ.get(\"LANGSMITH_PROJECT\"):\n",
    "#         os.environ[\"LANGSMITH_PROJECT\"] = \"default\"\n",
    "\n",
    "if \"OPENAI_API_KEY\" not in os.environ:\n",
    "    os.environ[\"OPENAI_API_KEY\"] = getpass.getpass(\n",
    "        prompt=\"Enter your OpenAI API key (required if using OpenAI): \"\n",
    "    )\n"
   ]
  },
  {
   "cell_type": "code",
   "execution_count": null,
   "id": "77cd0de7",
   "metadata": {},
   "outputs": [
    {
     "name": "stdout",
     "output_type": "stream",
     "text": [
      "content='Ciao!' response_metadata={'token_usage': {'completion_tokens': 4, 'prompt_tokens': 20, 'total_tokens': 24, 'prompt_tokens_details': {'cached_tokens': 0, 'audio_tokens': 0}, 'completion_tokens_details': {'reasoning_tokens': 0, 'audio_tokens': 0, 'accepted_prediction_tokens': 0, 'rejected_prediction_tokens': 0}}, 'model_name': 'gpt-4o-mini', 'system_fingerprint': 'fp_0392822090', 'finish_reason': 'stop', 'logprobs': None} id='run-00e90f5c-65fd-438e-8e3c-f873c50e4df3-0'\n",
      "Ciao!\n",
      "<class 'langchain_core.messages.ai.AIMessage'>\n"
     ]
    }
   ],
   "source": [
    "# using langchain message types\n",
    "model = ChatOpenAI(model=\"gpt-4o-mini\", temperature=0.2, timeout=10)\n",
    "messages = [\n",
    "    SystemMessage(\"Translate the following from English into Italian\"),\n",
    "    HumanMessage(\"hi!\"),\n",
    "]\n",
    "result = model.invoke(messages)\n",
    "print(result)\n",
    "print(result.content)\n",
    "print(type(result))"
   ]
  },
  {
   "cell_type": "code",
   "execution_count": 5,
   "id": "ed7f94be",
   "metadata": {},
   "outputs": [
    {
     "name": "stdout",
     "output_type": "stream",
     "text": [
      "नमस्ते\n"
     ]
    }
   ],
   "source": [
    "# using openai format\n",
    "print(model.invoke([{\"role\": \"system\", \"content\": \"Translate the following from English into Hindi\"}, {\"role\": \"user\", \"content\": \"Hello\"}]).content)\n"
   ]
  },
  {
   "cell_type": "code",
   "execution_count": 6,
   "id": "855cb96b",
   "metadata": {},
   "outputs": [
    {
     "name": "stdout",
     "output_type": "stream",
     "text": [
      "streaming mode\n",
      "|Certainly|!| Chicken| T|ikka| Mas|ala| is| a| popular| dish| that| features| mar|inated| chicken| cooked| in| a| creamy|,| sp|iced| tomato| sauce|.| Here|’s| a| classic| recipe| for| you| to| try|:\n",
      "\n",
      "|###| Chicken| T|ikka| Mas|ala| Recipe|\n",
      "\n",
      "|####| Ingredients|\n",
      "\n",
      "|**|For| the| Chicken| Marin|ade|:|**\n",
      "|-| |1| lb| (|450|g|)| bon|eless|,| skin|less| chicken| thighs| or| breasts|,| cut| into| bite|-sized| pieces|\n",
      "|-| |1| cup| plain| yogurt|\n",
      "|-| |2| tablespoons| lemon| juice|\n",
      "|-| |2| tablespoons| vegetable| oil|\n",
      "|-| |4| cloves| garlic|,| minced|\n",
      "|-| |1| tablespoon| fresh| ginger|,| grated|\n",
      "|-| |2| teaspoons| ground| cumin|\n",
      "|-| |2| teaspoons| ground| coriander|\n",
      "|-| |1| teaspoon| gar|am| mas|ala|\n",
      "|-| |1| teaspoon| turmeric|\n",
      "|-| |1| teaspoon| red| chili| powder| (|adjust| to| taste|)\n",
      "|-| Salt| to| taste|\n",
      "\n",
      "|**|For| the| Mas|ala| Sauce|:|**\n",
      "|-| |2| tablespoons| vegetable| oil| or| g|hee|\n",
      "|-| |1| large| onion|,| finely| chopped|\n",
      "|-| |4| cloves| garlic|,| minced|\n",
      "|-| |1| tablespoon| fresh| ginger|,| grated|\n",
      "|-| |1|-|2| green| chil|ies|,| slit| (|optional|,| adjust| to| taste|)\n",
      "|-| |1| teaspoon| ground| cumin|\n",
      "|-| |1| teaspoon| ground| coriander|\n",
      "|-| |1| teaspoon| gar|am| mas|ala|\n",
      "|-| |1| teaspoon| turmeric|\n",
      "|-| |1| teaspoon| red| chili| powder| (|adjust| to| taste|)\n",
      "|-| |1| can| (|14| oz|)| crushed| tomatoes|\n",
      "|-| |1| cup| heavy| cream| or| coconut| milk|\n",
      "|-| Salt| to| taste|\n",
      "|-| Fresh| cilantro|,| chopped| (|for| garnish|)\n",
      "\n",
      "|####| Instructions|\n",
      "\n",
      "|1|.| **|Mar|inate| the| Chicken|:|**\n",
      "|  | -| In| a| large| bowl|,| combine| yogurt|,| lemon| juice|,| vegetable| oil|,| garlic|,| ginger|,| cumin|,| coriander|,| gar|am| mas|ala|,| turmeric|,| red| chili| powder|,| and| salt|.\n",
      "|  | -| Add| the| chicken| pieces| to| the| marinade|,| ensuring| they| are| well| coated|.| Cover| and| refriger|ate| for| at| least| |1| hour|,| preferably| overnight|.\n",
      "\n",
      "|2|.| **|Cook| the| Chicken|:|**\n",
      "|  | -| Pre|heat| your| grill| or| oven| to| |400|°F| (|200|°C|).| If| using| a| grill|,| thread| the| mar|inated| chicken| onto| skew|ers|.\n",
      "|  | -| Grill| or| bake| the| chicken| for| about| |15|-|20| minutes|,| or| until| fully| cooked| and| slightly| char|red|.| If| using| an| oven|,| place| the| chicken| on| a| baking| sheet| lined| with| parchment| paper|.\n",
      "\n",
      "|3|.| **|Prepare| the| Mas|ala| Sauce|:|**\n",
      "|  | -| In| a| large| pan|,| heat| the| vegetable| oil| or| g|hee| over| medium| heat|.| Add| the| chopped| onions| and| sauté| until| golden| brown|.\n",
      "|  | -| Add| the| minced| garlic|,| grated| ginger|,| and| green| chil|ies| (|if| using|).| S|auté| for| another| |2|-|3| minutes| until| fragrant|.\n",
      "|  | -| Stir| in| the| cumin|,| coriander|,| gar|am| mas|ala|,| turmeric|,| and| red| chili| powder|.| Cook| for| |1|-|2| minutes| to| toast| the| spices|.\n",
      "|  | -| Add| the| crushed| tomatoes| and| cook| for| about| |10| minutes|,| stirring| occasionally|,| until| the| sauce| thick|ens| and| the| oil| begins| to| separate| from| the| tomatoes|.\n",
      "|  | -| Lower| the| heat| and| stir| in| the| heavy| cream| or| coconut| milk|.| Sim|mer| for| another| |5|-|10| minutes|.| Season| with| salt| to| taste|.\n",
      "\n",
      "|4|.| **|Combine| Chicken| and| Sauce|:|**\n",
      "|  | -| Add| the| grilled| chicken| pieces| to| the| mas|ala| sauce|.| Stir| well| to| coat| the| chicken| in| the| sauce| and| simmer| for| an| additional| |5| minutes|.\n",
      "\n",
      "|5|.| **|Serve|:|**\n",
      "|  | -| Garn|ish| with| fresh| cilantro|.| Serve| hot| with| bas|mati| rice|,| naan|,| or| ro|ti|.\n",
      "\n",
      "|###| Enjoy| your| homemade| Chicken| T|ikka| Mas|ala|!\n",
      "\n",
      "|Feel| free| to| adjust| the| spices| according| to| your| taste| preferences|.| Enjoy| your| cooking|!||"
     ]
    }
   ],
   "source": [
    "#streaming mode. Prints output token as a stream \n",
    "print(\"streaming mode\")\n",
    "messages = [\n",
    "    SystemMessage(\"You are a world class chef\"),\n",
    "    HumanMessage(\"Give me recipe for chicken tikka masala\"),\n",
    "]\n",
    "for token in model.stream(messages):\n",
    "    print(token.content, end=\"|\")"
   ]
  },
  {
   "cell_type": "code",
   "execution_count": 7,
   "id": "920f1ee0",
   "metadata": {},
   "outputs": [
    {
     "name": "stdout",
     "output_type": "stream",
     "text": [
      "[SystemMessage(content='Translate the following from English into Italian'), HumanMessage(content='hi!')]\n",
      "Ciao!\n"
     ]
    }
   ],
   "source": [
    "# prompt templates. Old school not very useful but good to experiment\n",
    "system_template = \"Translate the following from English into {language}\"\n",
    "prompt_template = ChatPromptTemplate.from_messages(\n",
    "[(\"system\", system_template), (\"user\", \"{text}\")]\n",
    ")\n",
    "prompt = prompt_template.invoke({\"language\": \"Italian\", \"text\": \"hi!\"})\n",
    "print(prompt.to_messages())\n",
    "response = model.invoke(prompt)\n",
    "print(response.content) "
   ]
  }
 ],
 "metadata": {
  "kernelspec": {
   "display_name": ".venv",
   "language": "python",
   "name": "python3"
  },
  "language_info": {
   "codemirror_mode": {
    "name": "ipython",
    "version": 3
   },
   "file_extension": ".py",
   "mimetype": "text/x-python",
   "name": "python",
   "nbconvert_exporter": "python",
   "pygments_lexer": "ipython3",
   "version": "3.10.14"
  }
 },
 "nbformat": 4,
 "nbformat_minor": 5
}
