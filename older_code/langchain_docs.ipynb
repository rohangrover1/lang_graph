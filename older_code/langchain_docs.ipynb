{
 "cells": [
  {
   "cell_type": "code",
   "execution_count": null,
   "id": "d05c9b6c",
   "metadata": {},
   "outputs": [],
   "source": [
    "from dotenv import load_dotenv, find_dotenv\n",
    "from typing import TypedDict, Annotated\n",
    "from langchain_core.messages import AnyMessage, SystemMessage, HumanMessage, ToolMessage\n",
    "from langchain_openai import ChatOpenAI\n",
    "from langchain_community.tools.tavily_search import TavilySearchResults\n",
    "import os\n",
    "import getpass\n",
    "import sys\n",
    "from langchain_core.documents import Document\n",
    "from langchain_community.document_loaders import PyPDFLoader\n",
    "from langchain_text_splitters import RecursiveCharacterTextSplitter\n"
   ]
  },
  {
   "cell_type": "code",
   "execution_count": 13,
   "id": "63be0ddc",
   "metadata": {},
   "outputs": [],
   "source": [
    "_ = load_dotenv(find_dotenv())"
   ]
  },
  {
   "cell_type": "code",
   "execution_count": 9,
   "id": "0a3243ad",
   "metadata": {},
   "outputs": [
    {
     "name": "stdout",
     "output_type": "stream",
     "text": [
      "[Document(page_content='Dogs are great companions, known for their loyalty and friendliness.', metadata={'source': 'mammal-pets-doc'}), Document(page_content='Cats are independent pets that often enjoy their own space.', metadata={'source': 'mammal-pets-doc'})]\n",
      "Dogs are great companions, known for their loyalty and friendliness.\n",
      "{'source': 'mammal-pets-doc'}\n"
     ]
    }
   ],
   "source": [
    "# langchain document with 3 key elements\n",
    "#page_content: a string representing the content;\n",
    "#metadata: a dict containing arbitrary metadata;\n",
    "#id: (optional) a string identifier for the document.\n",
    "\n",
    "\n",
    "documents = [\n",
    "    Document(\n",
    "        page_content=\"Dogs are great companions, known for their loyalty and friendliness.\",\n",
    "        metadata={\"source\": \"mammal-pets-doc\"},\n",
    "    ),\n",
    "    Document(\n",
    "        page_content=\"Cats are independent pets that often enjoy their own space.\",\n",
    "        metadata={\"source\": \"mammal-pets-doc\"},\n",
    "    ),\n",
    "]\n",
    "print(documents)\n",
    "print(documents[0].page_content)\n",
    "print(documents[0].metadata)\n",
    "\n"
   ]
  },
  {
   "cell_type": "code",
   "execution_count": 10,
   "id": "77cd0de7",
   "metadata": {},
   "outputs": [
    {
     "name": "stdout",
     "output_type": "stream",
     "text": [
      "3\n"
     ]
    }
   ],
   "source": [
    "# loading pdfs\n",
    "#PyPDFLoader loads one Document object per PDF page. For each, we can easily access:\n",
    "file_path = \"examples/AWS_Certified_Developer_Associate_Updated_June_2018_Exam_Guide_v1.3.pdf\"\n",
    "loader = PyPDFLoader(file_path)\n",
    "docs = loader.load()\n",
    "print(len(docs))"
   ]
  },
  {
   "cell_type": "code",
   "execution_count": 11,
   "id": "9f41891e",
   "metadata": {},
   "outputs": [
    {
     "name": "stdout",
     "output_type": "stream",
     "text": [
      "Version 1.3 DVA-C01                                                                                                                                                                      Page |1  \n",
      " \n",
      " \n",
      "A\n",
      "\n",
      "{'source': 'examples/AWS_Certified_Developer_Associate_Updated_June_2018_Exam_Guide_v1.3.pdf', 'page': 0}\n"
     ]
    }
   ],
   "source": [
    "print(f\"{docs[0].page_content[:200]}\\n\")\n",
    "print(docs[0].metadata)"
   ]
  },
  {
   "cell_type": "code",
   "execution_count": 14,
   "id": "6f5d6981",
   "metadata": {},
   "outputs": [
    {
     "name": "stdout",
     "output_type": "stream",
     "text": [
      "Version 1.3 DVA-C01                                                                                                                                                                      Page |1  \n",
      " \n",
      " \n",
      "AWS Certified Developer–Associate  \n",
      "(DVA-C01) Examination Guide \n",
      " \n",
      "Introduction  \n",
      "This AWS Certified Developer-Associate Examination (DVA-001) is intended for individuals who perform a \n",
      "Developer role.   \n",
      " \n",
      "It validates an examinee’s ability to: \n",
      "  \n",
      " Demonstrate an understanding of core AWS services, uses, and basic AWS architecture best practices . \n",
      " Demonstrate proficiency in developing, deploying, and debugging cloud-based applications using AWS. \n",
      " \n",
      "Examination Prerequisite \n",
      "There are no prerequisites for taking the Developer-Associate examination. \n",
      " \n",
      "Recommended AWS Knowledge \n",
      " One or more years of hands-on experience developing and maintaining an AWS based application \n",
      " In-depth knowledge of at least one high-level programming language\n"
     ]
    }
   ],
   "source": [
    "text_splitter = RecursiveCharacterTextSplitter(\n",
    "    chunk_size=1000, chunk_overlap=200, add_start_index=True\n",
    ")\n",
    "all_splits = text_splitter.split_documents(docs)\n",
    "\n",
    "len(all_splits)\n",
    "print(all_splits[0].page_content)"
   ]
  },
  {
   "cell_type": "markdown",
   "id": "80319c5b",
   "metadata": {},
   "source": [
    "# Embeddings"
   ]
  },
  {
   "cell_type": "code",
   "execution_count": 16,
   "id": "64f0d3e6",
   "metadata": {},
   "outputs": [
    {
     "name": "stdout",
     "output_type": "stream",
     "text": [
      "Generated vectors of length 3072\n",
      "\n",
      "[-0.018799082711563133, -0.01684536731497232, -0.006476204171409481, 0.029218896297402392, 0.04165031256394557, 0.006610069680074223, -0.008972617513173404, 0.03884275134478352, -0.004536961061508215, 0.02856765783187212]\n"
     ]
    }
   ],
   "source": [
    "from langchain_openai import OpenAIEmbeddings\n",
    "\n",
    "embeddings = OpenAIEmbeddings(model=\"text-embedding-3-large\")\n",
    "vector_1 = embeddings.embed_query(all_splits[0].page_content)\n",
    "vector_2 = embeddings.embed_query(all_splits[1].page_content)\n",
    "\n",
    "assert len(vector_1) == len(vector_2)\n",
    "print(f\"Generated vectors of length {len(vector_1)}\\n\")\n",
    "print(vector_1[:10])\n",
    "\n",
    "\n"
   ]
  },
  {
   "cell_type": "markdown",
   "id": "4a9e4b83",
   "metadata": {},
   "source": [
    "# Vector Stores"
   ]
  },
  {
   "cell_type": "code",
   "execution_count": 21,
   "id": "2bb9060f",
   "metadata": {},
   "outputs": [],
   "source": [
    "from langchain_chroma import Chroma\n",
    "db = Chroma.from_documents(all_splits, OpenAIEmbeddings())\n",
    "\n",
    "\n",
    "\n"
   ]
  },
  {
   "cell_type": "code",
   "execution_count": 22,
   "id": "b9e4d0e6",
   "metadata": {},
   "outputs": [
    {
     "name": "stdout",
     "output_type": "stream",
     "text": [
      "Recommended AWS Knowledge \n",
      " One or more years of hands-on experience developing and maintaining an AWS based application \n",
      " In-depth knowledge of at least one high-level programming language \n",
      " Understanding of core AWS services, uses, and basic AWS architecture best practices  \n",
      " Proficiency in developing, deploying, and debugging cloud-based applications using AWS \n",
      " Ability to use the AWS service APIs, AWS CLI, and SDKs to write applications \n",
      " Ability to identify key features of AWS services  \n",
      " Understanding of the AWS shared responsibility model \n",
      " Understanding of application lifecycle management \n",
      " Ability to use a CI/CD pipeline to deploy applications on AWS \n",
      " Ability to use or interact with AWS services  \n",
      " Ability to apply a basic understanding of cloud-native applications to write code \n",
      " Ability to write code using AWS security best practices (e.g., not using secret and access keys in the code, \n",
      "instead using IAM roles)\n"
     ]
    }
   ],
   "source": [
    "query = \"What is the Recommended AWS Knowledge\"\n",
    "docs = db.similarity_search(query)\n",
    "print(docs[0].page_content)"
   ]
  },
  {
   "cell_type": "markdown",
   "id": "6cadfa4a",
   "metadata": {},
   "source": [
    "## Similarity search by vector"
   ]
  },
  {
   "cell_type": "code",
   "execution_count": 23,
   "id": "4657975b",
   "metadata": {},
   "outputs": [
    {
     "name": "stdout",
     "output_type": "stream",
     "text": [
      "Recommended AWS Knowledge \n",
      " One or more years of hands-on experience developing and maintaining an AWS based application \n",
      " In-depth knowledge of at least one high-level programming language \n",
      " Understanding of core AWS services, uses, and basic AWS architecture best practices  \n",
      " Proficiency in developing, deploying, and debugging cloud-based applications using AWS \n",
      " Ability to use the AWS service APIs, AWS CLI, and SDKs to write applications \n",
      " Ability to identify key features of AWS services  \n",
      " Understanding of the AWS shared responsibility model \n",
      " Understanding of application lifecycle management \n",
      " Ability to use a CI/CD pipeline to deploy applications on AWS \n",
      " Ability to use or interact with AWS services  \n",
      " Ability to apply a basic understanding of cloud-native applications to write code \n",
      " Ability to write code using AWS security best practices (e.g., not using secret and access keys in the code, \n",
      "instead using IAM roles)\n"
     ]
    }
   ],
   "source": [
    "embedding_vector = OpenAIEmbeddings().embed_query(query)\n",
    "docs = db.similarity_search_by_vector(embedding_vector)\n",
    "print(docs[0].page_content)"
   ]
  },
  {
   "cell_type": "code",
   "execution_count": 31,
   "id": "7c4ea22a",
   "metadata": {},
   "outputs": [
    {
     "data": {
      "text/plain": [
       "[Document(page_content='Recommended AWS Knowledge \\n\\uf0b7 One or more years of hands-on experience developing and maintaining an AWS based application \\n\\uf0b7 In-depth knowledge of at least one high-level programming language \\n\\uf0b7 Understanding of core AWS services, uses, and basic AWS architecture best practices  \\n\\uf0b7 Proficiency in developing, deploying, and debugging cloud-based applications using AWS \\n\\uf0b7 Ability to use the AWS service APIs, AWS CLI, and SDKs to write applications \\n\\uf0b7 Ability to identify key features of AWS services  \\n\\uf0b7 Understanding of the AWS shared responsibility model \\n\\uf0b7 Understanding of application lifecycle management \\n\\uf0b7 Ability to use a CI/CD pipeline to deploy applications on AWS \\n\\uf0b7 Ability to use or interact with AWS services  \\n\\uf0b7 Ability to apply a basic understanding of cloud-native applications to write code \\n\\uf0b7 Ability to write code using AWS security best practices (e.g., not using secret and access keys in the code, \\ninstead using IAM roles)', metadata={'page': 0, 'source': 'examples/AWS_Certified_Developer_Associate_Updated_June_2018_Exam_Guide_v1.3.pdf', 'start_index': 762}),\n",
       " Document(page_content='\\uf0b7 Ability to write code using AWS security best practices (e.g., not using secret and access keys in the code, \\ninstead using IAM roles) \\n\\uf0b7 Ability to author, maintain, and debug code modules on AWS \\n\\uf0b7 Proficiency writing code for serverless applications \\n\\uf0b7 Understanding of the use of containers in the development process  \\nExam Preparation  \\nThese training courses and materials may be helpful for examination preparation:  \\n \\nAWS Training (aws.amazon.com/training)  \\n\\uf0b7 Developing on AWS: An instructor-led live or virtual 3-day course \\n\\uf0b7 AWS Digital Training: Application Services, Developer Tools, and other services covered on the exam \\nAWS Whitepapers (aws.amazon.com/whitepapers) Kindle and .pdf   \\n\\uf0b7 AWS Security Best Practices whitepaper, August 2016 \\n\\uf0b7 AWS Well-Architected Framework whitepaper, November 2017', metadata={'page': 0, 'source': 'examples/AWS_Certified_Developer_Associate_Updated_June_2018_Exam_Guide_v1.3.pdf', 'start_index': 1574}),\n",
       " Document(page_content='Version 1.3 DVA-C01                                                                                                                                                                      Page |1  \\n \\n \\nAWS Certified Developer–Associate  \\n(DVA-C01) Examination Guide \\n \\nIntroduction  \\nThis AWS Certified Developer-Associate Examination (DVA-001) is intended for individuals who perform a \\nDeveloper role.   \\n \\nIt validates an examinee’s ability to: \\n  \\n\\uf0b7 Demonstrate an understanding of core AWS services, uses, and basic AWS architecture best practices . \\n\\uf0b7 Demonstrate proficiency in developing, deploying, and debugging cloud-based applications using AWS. \\n \\nExamination Prerequisite \\nThere are no prerequisites for taking the Developer-Associate examination. \\n \\nRecommended AWS Knowledge \\n\\uf0b7 One or more years of hands-on experience developing and maintaining an AWS based application \\n\\uf0b7 In-depth knowledge of at least one high-level programming language', metadata={'page': 0, 'source': 'examples/AWS_Certified_Developer_Associate_Updated_June_2018_Exam_Guide_v1.3.pdf', 'start_index': 0}),\n",
       " Document(page_content='Version 1.3 DVA-C01                                                                                                                                                                      Page |2  \\n\\uf0b7 Architecting for the Cloud AWS Best Practices whitepaper, February, 2016  \\n\\uf0b7 Practicing Continuous Integration and Continuous Delivery on AWS Accelerating Software Delivery with \\nDevOps whitepaper, June 2017 \\n\\uf0b7 Microservices on AWS whitepaper, September 2017 \\n\\uf0b7 Serverless Architectures with AWS Lambda whitepaper, November 2017 \\n\\uf0b7 Optimizing Enterprise Economics with Serverless Architectures whitepaper, October 2017 \\n\\uf0b7 Running Containerized Microservices on AWS whitepaper, November 2017 \\n\\uf0b7 Blue/Green Deployments on AWS whitepaper, August 2016 \\nAWS Documentation  \\n\\uf0b7 AWS Documentation for services, including, but not limited to, the compute, database, application \\nservices, and messaging web pages including service guides and references \\nExam Content  \\nResponse Types', metadata={'page': 1, 'source': 'examples/AWS_Certified_Developer_Associate_Updated_June_2018_Exam_Guide_v1.3.pdf', 'start_index': 0})]"
      ]
     },
     "execution_count": 31,
     "metadata": {},
     "output_type": "execute_result"
    }
   ],
   "source": [
    "docs = await db.asimilarity_search(query)\n",
    "docs"
   ]
  },
  {
   "cell_type": "markdown",
   "id": "b44686c2",
   "metadata": {},
   "source": [
    "# Creating a retriever from a vectorstore"
   ]
  },
  {
   "cell_type": "code",
   "execution_count": 33,
   "id": "c3723ce4",
   "metadata": {},
   "outputs": [
    {
     "name": "stdout",
     "output_type": "stream",
     "text": [
      "[Document(page_content='Recommended AWS Knowledge \\n\\uf0b7 One or more years of hands-on experience developing and maintaining an AWS based application \\n\\uf0b7 In-depth knowledge of at least one high-level programming language \\n\\uf0b7 Understanding of core AWS services, uses, and basic AWS architecture best practices  \\n\\uf0b7 Proficiency in developing, deploying, and debugging cloud-based applications using AWS \\n\\uf0b7 Ability to use the AWS service APIs, AWS CLI, and SDKs to write applications \\n\\uf0b7 Ability to identify key features of AWS services  \\n\\uf0b7 Understanding of the AWS shared responsibility model \\n\\uf0b7 Understanding of application lifecycle management \\n\\uf0b7 Ability to use a CI/CD pipeline to deploy applications on AWS \\n\\uf0b7 Ability to use or interact with AWS services  \\n\\uf0b7 Ability to apply a basic understanding of cloud-native applications to write code \\n\\uf0b7 Ability to write code using AWS security best practices (e.g., not using secret and access keys in the code, \\ninstead using IAM roles)', metadata={'page': 0, 'source': 'examples/AWS_Certified_Developer_Associate_Updated_June_2018_Exam_Guide_v1.3.pdf', 'start_index': 762}), Document(page_content='\\uf0b7 Ability to write code using AWS security best practices (e.g., not using secret and access keys in the code, \\ninstead using IAM roles) \\n\\uf0b7 Ability to author, maintain, and debug code modules on AWS \\n\\uf0b7 Proficiency writing code for serverless applications \\n\\uf0b7 Understanding of the use of containers in the development process  \\nExam Preparation  \\nThese training courses and materials may be helpful for examination preparation:  \\n \\nAWS Training (aws.amazon.com/training)  \\n\\uf0b7 Developing on AWS: An instructor-led live or virtual 3-day course \\n\\uf0b7 AWS Digital Training: Application Services, Developer Tools, and other services covered on the exam \\nAWS Whitepapers (aws.amazon.com/whitepapers) Kindle and .pdf   \\n\\uf0b7 AWS Security Best Practices whitepaper, August 2016 \\n\\uf0b7 AWS Well-Architected Framework whitepaper, November 2017', metadata={'page': 0, 'source': 'examples/AWS_Certified_Developer_Associate_Updated_June_2018_Exam_Guide_v1.3.pdf', 'start_index': 1574}), Document(page_content='Version 1.3 DVA-C01                                                                                                                                                                      Page |1  \\n \\n \\nAWS Certified Developer–Associate  \\n(DVA-C01) Examination Guide \\n \\nIntroduction  \\nThis AWS Certified Developer-Associate Examination (DVA-001) is intended for individuals who perform a \\nDeveloper role.   \\n \\nIt validates an examinee’s ability to: \\n  \\n\\uf0b7 Demonstrate an understanding of core AWS services, uses, and basic AWS architecture best practices . \\n\\uf0b7 Demonstrate proficiency in developing, deploying, and debugging cloud-based applications using AWS. \\n \\nExamination Prerequisite \\nThere are no prerequisites for taking the Developer-Associate examination. \\n \\nRecommended AWS Knowledge \\n\\uf0b7 One or more years of hands-on experience developing and maintaining an AWS based application \\n\\uf0b7 In-depth knowledge of at least one high-level programming language', metadata={'page': 0, 'source': 'examples/AWS_Certified_Developer_Associate_Updated_June_2018_Exam_Guide_v1.3.pdf', 'start_index': 0}), Document(page_content='Version 1.3 DVA-C01                                                                                                                                                                      Page |2  \\n\\uf0b7 Architecting for the Cloud AWS Best Practices whitepaper, February, 2016  \\n\\uf0b7 Practicing Continuous Integration and Continuous Delivery on AWS Accelerating Software Delivery with \\nDevOps whitepaper, June 2017 \\n\\uf0b7 Microservices on AWS whitepaper, September 2017 \\n\\uf0b7 Serverless Architectures with AWS Lambda whitepaper, November 2017 \\n\\uf0b7 Optimizing Enterprise Economics with Serverless Architectures whitepaper, October 2017 \\n\\uf0b7 Running Containerized Microservices on AWS whitepaper, November 2017 \\n\\uf0b7 Blue/Green Deployments on AWS whitepaper, August 2016 \\nAWS Documentation  \\n\\uf0b7 AWS Documentation for services, including, but not limited to, the compute, database, application \\nservices, and messaging web pages including service guides and references \\nExam Content  \\nResponse Types', metadata={'page': 1, 'source': 'examples/AWS_Certified_Developer_Associate_Updated_June_2018_Exam_Guide_v1.3.pdf', 'start_index': 0})]\n"
     ]
    }
   ],
   "source": [
    "retriever = db.as_retriever()\n",
    "docs = retriever.invoke(\"What is the Recommended AWS Knowledge\")\n",
    "print(docs)\n",
    "\n",
    "\n"
   ]
  },
  {
   "cell_type": "markdown",
   "id": "5a7c57f6",
   "metadata": {},
   "source": [
    "## Maximum marginal relevance retrieval\n",
    "By default, the vector store retriever uses similarity search. If the underlying vector store supports maximum marginal relevance search, you can specify that as the search type.\n",
    "\n"
   ]
  },
  {
   "cell_type": "code",
   "execution_count": 34,
   "id": "7c5f691e",
   "metadata": {},
   "outputs": [
    {
     "name": "stderr",
     "output_type": "stream",
     "text": [
      "WARNING:chromadb.segment.impl.vector.local_hnsw:Number of requested results 20 is greater than number of elements in index 9, updating n_results = 9\n"
     ]
    },
    {
     "name": "stdout",
     "output_type": "stream",
     "text": [
      "[Document(page_content='Recommended AWS Knowledge \\n\\uf0b7 One or more years of hands-on experience developing and maintaining an AWS based application \\n\\uf0b7 In-depth knowledge of at least one high-level programming language \\n\\uf0b7 Understanding of core AWS services, uses, and basic AWS architecture best practices  \\n\\uf0b7 Proficiency in developing, deploying, and debugging cloud-based applications using AWS \\n\\uf0b7 Ability to use the AWS service APIs, AWS CLI, and SDKs to write applications \\n\\uf0b7 Ability to identify key features of AWS services  \\n\\uf0b7 Understanding of the AWS shared responsibility model \\n\\uf0b7 Understanding of application lifecycle management \\n\\uf0b7 Ability to use a CI/CD pipeline to deploy applications on AWS \\n\\uf0b7 Ability to use or interact with AWS services  \\n\\uf0b7 Ability to apply a basic understanding of cloud-native applications to write code \\n\\uf0b7 Ability to write code using AWS security best practices (e.g., not using secret and access keys in the code, \\ninstead using IAM roles)', metadata={'page': 0, 'source': 'examples/AWS_Certified_Developer_Associate_Updated_June_2018_Exam_Guide_v1.3.pdf', 'start_index': 762}), Document(page_content='Version 1.3 DVA-C01                                                                                                                                                                      Page |2  \\n\\uf0b7 Architecting for the Cloud AWS Best Practices whitepaper, February, 2016  \\n\\uf0b7 Practicing Continuous Integration and Continuous Delivery on AWS Accelerating Software Delivery with \\nDevOps whitepaper, June 2017 \\n\\uf0b7 Microservices on AWS whitepaper, September 2017 \\n\\uf0b7 Serverless Architectures with AWS Lambda whitepaper, November 2017 \\n\\uf0b7 Optimizing Enterprise Economics with Serverless Architectures whitepaper, October 2017 \\n\\uf0b7 Running Containerized Microservices on AWS whitepaper, November 2017 \\n\\uf0b7 Blue/Green Deployments on AWS whitepaper, August 2016 \\nAWS Documentation  \\n\\uf0b7 AWS Documentation for services, including, but not limited to, the compute, database, application \\nservices, and messaging web pages including service guides and references \\nExam Content  \\nResponse Types', metadata={'page': 1, 'source': 'examples/AWS_Certified_Developer_Associate_Updated_June_2018_Exam_Guide_v1.3.pdf', 'start_index': 0}), Document(page_content='These questions are not identified on the form, and do not affect your score.   \\n \\nExam Results \\nThe AWS Certified Developer-Associate Examination (DVA-C01) is a pass or fail exam. The examination is scored \\nagainst a minimum standard established by AWS professionals guided by certification industry best practices and \\nguidelines.  \\n \\nYour results for the examination are reported as a score from 100 - 1000, with a minimum passing score of 720. \\nYour score shows how you performed on the examination as a whole and whether or not you passed. Scaled \\nscoring models are used to equate scores across multiple exam forms that may have slightly different difficulty \\nlevels. \\n \\nYour score report contains a table of classifications of your performance at each section level. This information is \\ndesigned to provide general feedback concerning your examination performance. The examination uses a', metadata={'page': 1, 'source': 'examples/AWS_Certified_Developer_Associate_Updated_June_2018_Exam_Guide_v1.3.pdf', 'start_index': 1756}), Document(page_content='designed to provide general feedback concerning your examination performance. The examination uses a \\ncompensatory scoring model, which means that you do not need to “pass” the individual sections, only the overall \\nexamination. Each section of the examination has a specific weighting, so some sections have more questions than \\nothers. The table contains general information, highlighting your strengths and weaknesses. Exercise  caution when \\ninterpreting section-level feedback.', metadata={'page': 1, 'source': 'examples/AWS_Certified_Developer_Associate_Updated_June_2018_Exam_Guide_v1.3.pdf', 'start_index': 2551})]\n"
     ]
    }
   ],
   "source": [
    "retriever1 = db.as_retriever(search_type=\"mmr\")\n",
    "docs = retriever1.invoke(\"What is the Recommended AWS Knowledge\")\n",
    "print(docs)\n",
    "\n",
    "\n",
    "\n",
    "\n"
   ]
  },
  {
   "cell_type": "markdown",
   "id": "beb505c0",
   "metadata": {},
   "source": [
    "# Passing search parameters\n",
    "We can pass parameters to the underlying vectorstore's search methods using search_kwargs.\n",
    "\n"
   ]
  },
  {
   "cell_type": "code",
   "execution_count": 39,
   "id": "09423d4c",
   "metadata": {},
   "outputs": [
    {
     "name": "stdout",
     "output_type": "stream",
     "text": [
      "[]\n",
      "0\n"
     ]
    },
    {
     "name": "stderr",
     "output_type": "stream",
     "text": [
      "/Users/rohangrover/Federated/code/ai_projects/lang_graph/.venv/lib/python3.10/site-packages/langchain_core/vectorstores.py:342: UserWarning: No relevant docs were retrieved using the relevance score threshold 0.7\n",
      "  warnings.warn(\n"
     ]
    }
   ],
   "source": [
    "retriever = db.as_retriever(\n",
    "    search_type=\"similarity_score_threshold\", search_kwargs={\"score_threshold\": 0.7}\n",
    ")\n",
    "docs = retriever.invoke(\"Whos is Jeff Bezos\")\n",
    "print(docs)\n",
    "print(len(docs))\n"
   ]
  },
  {
   "cell_type": "code",
   "execution_count": 42,
   "id": "357ae252",
   "metadata": {},
   "outputs": [
    {
     "name": "stdout",
     "output_type": "stream",
     "text": [
      "[Document(page_content='Recommended AWS Knowledge \\n\\uf0b7 One or more years of hands-on experience developing and maintaining an AWS based application \\n\\uf0b7 In-depth knowledge of at least one high-level programming language \\n\\uf0b7 Understanding of core AWS services, uses, and basic AWS architecture best practices  \\n\\uf0b7 Proficiency in developing, deploying, and debugging cloud-based applications using AWS \\n\\uf0b7 Ability to use the AWS service APIs, AWS CLI, and SDKs to write applications \\n\\uf0b7 Ability to identify key features of AWS services  \\n\\uf0b7 Understanding of the AWS shared responsibility model \\n\\uf0b7 Understanding of application lifecycle management \\n\\uf0b7 Ability to use a CI/CD pipeline to deploy applications on AWS \\n\\uf0b7 Ability to use or interact with AWS services  \\n\\uf0b7 Ability to apply a basic understanding of cloud-native applications to write code \\n\\uf0b7 Ability to write code using AWS security best practices (e.g., not using secret and access keys in the code, \\ninstead using IAM roles)', metadata={'page': 0, 'source': 'examples/AWS_Certified_Developer_Associate_Updated_June_2018_Exam_Guide_v1.3.pdf', 'start_index': 762})]\n"
     ]
    },
    {
     "data": {
      "text/plain": [
       "1"
      ]
     },
     "execution_count": 42,
     "metadata": {},
     "output_type": "execute_result"
    }
   ],
   "source": [
    "docs = retriever.invoke(\"What is the Recommended AWS Knowledge\")\n",
    "print(docs)\n",
    "len(docs)\n"
   ]
  },
  {
   "cell_type": "markdown",
   "id": "a134417c",
   "metadata": {},
   "source": [
    "# Specifying top k\n",
    "We can also limit the number of documents k returned by the retriever."
   ]
  },
  {
   "cell_type": "code",
   "execution_count": 41,
   "id": "0b0ceec6",
   "metadata": {},
   "outputs": [
    {
     "data": {
      "text/plain": [
       "1"
      ]
     },
     "execution_count": 41,
     "metadata": {},
     "output_type": "execute_result"
    }
   ],
   "source": [
    "retriever = db.as_retriever(search_kwargs={\"k\": 1})\n",
    "docs = retriever.invoke(\"What is the Recommended AWS Knowledge\")\n",
    "len(docs)"
   ]
  }
 ],
 "metadata": {
  "kernelspec": {
   "display_name": ".venv",
   "language": "python",
   "name": "python3"
  },
  "language_info": {
   "codemirror_mode": {
    "name": "ipython",
    "version": 3
   },
   "file_extension": ".py",
   "mimetype": "text/x-python",
   "name": "python",
   "nbconvert_exporter": "python",
   "pygments_lexer": "ipython3",
   "version": "3.10.14"
  }
 },
 "nbformat": 4,
 "nbformat_minor": 5
}
