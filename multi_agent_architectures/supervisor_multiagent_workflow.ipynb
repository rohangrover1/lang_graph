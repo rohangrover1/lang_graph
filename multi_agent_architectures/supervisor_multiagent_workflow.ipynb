{
 "cells": [
  {
   "cell_type": "code",
   "execution_count": 1,
   "id": "ce5b0bbe",
   "metadata": {},
   "outputs": [],
   "source": [
    "import os\n",
    "from dotenv import load_dotenv, find_dotenv\n",
    "_ = load_dotenv(find_dotenv())\n",
    "os.environ[\"LANGSMITH_TRACING\"] = \"true\"\n",
    "os.environ[\"LANGSMITH_PROJECT\"] = \"default\"\n"
   ]
  },
  {
   "cell_type": "code",
   "execution_count": null,
   "id": "31b1f0d7",
   "metadata": {},
   "outputs": [],
   "source": [
    "from typing import Annotated, Sequence, List, Literal \n",
    "from pydantic import BaseModel, Field \n",
    "from langchain_core.messages import HumanMessage\n",
    "from langchain_community.tools.tavily_search import TavilySearchResults \n",
    "from langgraph.types import Command \n",
    "from langgraph.graph import StateGraph, START, END, MessagesState\n",
    "from langgraph.prebuilt import create_react_agent \n",
    "from IPython.display import Image, display \n",
    "from dotenv import load_dotenv\n",
    "from langchain_experimental.tools import PythonREPLTool\n",
    "from langchain_openai import ChatOpenAI\n",
    "\n",
    "\n",
    "llm = ChatOpenAI(model=\"gpt-4o\")\n",
    "tavily_search = TavilySearchResults(max_results=2)\n",
    "python_repl_tool = PythonREPLTool()"
   ]
  },
  {
   "cell_type": "code",
   "execution_count": 4,
   "id": "7a8d37bd",
   "metadata": {},
   "outputs": [
    {
     "name": "stderr",
     "output_type": "stream",
     "text": [
      "Python REPL can execute arbitrary code. Use with caution.\n"
     ]
    },
    {
     "data": {
      "text/plain": [
       "'5\\n'"
      ]
     },
     "execution_count": 4,
     "metadata": {},
     "output_type": "execute_result"
    }
   ],
   "source": [
    "# test the python tool\n",
    "python_repl_tool.invoke(\"x = 5; print(x)\")"
   ]
  },
  {
   "cell_type": "code",
   "execution_count": 5,
   "id": "cb0a5b4f",
   "metadata": {},
   "outputs": [],
   "source": [
    "# defining a pydantic model class\n",
    "class Supervisor(BaseModel):\n",
    "    next: Literal[\"enhancer\", \"researcher\", \"coder\"] = Field(\n",
    "        description=\"Determines which specialist to activate next in the workflow sequence: \"\n",
    "                    \"'enhancer' when user input requires clarification, expansion, or refinement, \"\n",
    "                    \"'researcher' when additional facts, context, or data collection is necessary, \"\n",
    "                    \"'coder' when implementation, computation, or technical problem-solving is required.\"\n",
    "    )\n",
    "    reason: str = Field(\n",
    "        description=\"Detailed justification for the routing decision, explaining the rationale behind selecting the particular specialist and how this advances the task toward completion.\"\n",
    "    )\n"
   ]
  },
  {
   "cell_type": "code",
   "execution_count": 6,
   "id": "83463939",
   "metadata": {},
   "outputs": [],
   "source": [
    "def supervisor_node(state: MessagesState) -> Command[Literal[\"enhancer\", \"researcher\", \"coder\"]]:\n",
    "\n",
    "    system_prompt = ('''\n",
    "                 \n",
    "        You are a workflow supervisor managing a team of three specialized agents: Prompt Enhancer, Researcher, and Coder. Your role is to orchestrate the workflow by selecting the most appropriate next agent based on the current state and needs of the task. Provide a clear, concise rationale for each decision to ensure transparency in your decision-making process.\n",
    "\n",
    "        **Team Members**:\n",
    "        1. **Prompt Enhancer**: Always consider this agent first. They clarify ambiguous requests, improve poorly defined queries, and ensure the task is well-structured before deeper processing begins.\n",
    "        2. **Researcher**: Specializes in information gathering, fact-finding, and collecting relevant data needed to address the user's request.\n",
    "        3. **Coder**: Focuses on technical implementation, calculations, data analysis, algorithm development, and coding solutions.\n",
    "\n",
    "        **Your Responsibilities**:\n",
    "        1. Analyze each user request and agent response for completeness, accuracy, and relevance.\n",
    "        2. Route the task to the most appropriate agent at each decision point.\n",
    "        3. Maintain workflow momentum by avoiding redundant agent assignments.\n",
    "        4. Continue the process until the user's request is fully and satisfactorily resolved.\n",
    "\n",
    "        Your objective is to create an efficient workflow that leverages each agent's strengths while minimizing unnecessary steps, ultimately delivering complete and accurate solutions to user requests.\n",
    "                 \n",
    "    ''')\n",
    "    \n",
    "    messages = [\n",
    "        {\"role\": \"system\", \"content\": system_prompt},  \n",
    "    ] + state[\"messages\"] \n",
    "\n",
    "    response = llm.with_structured_output(Supervisor).invoke(messages)\n",
    "\n",
    "    goto = response.next\n",
    "    reason = response.reason\n",
    "\n",
    "    print(f\"--- Workflow Transition: Supervisor → {goto.upper()} ---\")\n",
    "    \n",
    "    return Command(\n",
    "        update={\n",
    "            \"messages\": [\n",
    "                HumanMessage(content=reason, name=\"supervisor\")\n",
    "            ]\n",
    "        },\n",
    "        goto=goto,  \n",
    "    )"
   ]
  },
  {
   "cell_type": "code",
   "execution_count": 7,
   "id": "6585763e",
   "metadata": {},
   "outputs": [],
   "source": [
    "def enhancer_node(state: MessagesState) -> Command[Literal[\"supervisor\"]]:\n",
    "\n",
    "    \"\"\"\n",
    "        Enhancer agent node that improves and clarifies user queries.\n",
    "        Takes the original user input and transforms it into a more precise,\n",
    "        actionable request before passing it to the supervisor.\n",
    "    \"\"\"\n",
    "   \n",
    "    system_prompt = (\n",
    "        \"You are a Query Refinement Specialist with expertise in transforming vague requests into precise instructions. Your responsibilities include:\\n\\n\"\n",
    "        \"1. Analyzing the original query to identify key intent and requirements\\n\"\n",
    "        \"2. Resolving any ambiguities without requesting additional user input\\n\"\n",
    "        \"3. Expanding underdeveloped aspects of the query with reasonable assumptions\\n\"\n",
    "        \"4. Restructuring the query for clarity and actionability\\n\"\n",
    "        \"5. Ensuring all technical terminology is properly defined in context\\n\\n\"\n",
    "        \"Important: Never ask questions back to the user. Instead, make informed assumptions and create the most comprehensive version of their request possible.\"\n",
    "    )\n",
    "\n",
    "    messages = [\n",
    "        {\"role\": \"system\", \"content\": system_prompt},  \n",
    "    ] + state[\"messages\"]  \n",
    "\n",
    "    enhanced_query = llm.invoke(messages)\n",
    "\n",
    "    print(f\"--- Workflow Transition: Prompt Enhancer → Supervisor ---\")\n",
    "\n",
    "    return Command(\n",
    "        update={\n",
    "            \"messages\": [  \n",
    "                HumanMessage(\n",
    "                    content=enhanced_query.content, \n",
    "                    name=\"enhancer\"  \n",
    "                )\n",
    "            ]\n",
    "        },\n",
    "        goto=\"supervisor\", \n",
    "    )"
   ]
  },
  {
   "cell_type": "code",
   "execution_count": 8,
   "id": "50c47e46",
   "metadata": {},
   "outputs": [],
   "source": [
    "def research_node(state: MessagesState) -> Command[Literal[\"validator\"]]:\n",
    "\n",
    "    \"\"\"\n",
    "        Research agent node that gathers information using Tavily search.\n",
    "        Takes the current task state, performs relevant research,\n",
    "        and returns findings for validation.\n",
    "    \"\"\"\n",
    "    \n",
    "    research_agent = create_react_agent(\n",
    "        llm,  \n",
    "        tools=[tavily_search],  \n",
    "        state_modifier= \"You are an Information Specialist with expertise in comprehensive research. Your responsibilities include:\\n\\n\"\n",
    "            \"1. Identifying key information needs based on the query context\\n\"\n",
    "            \"2. Gathering relevant, accurate, and up-to-date information from reliable sources\\n\"\n",
    "            \"3. Organizing findings in a structured, easily digestible format\\n\"\n",
    "            \"4. Citing sources when possible to establish credibility\\n\"\n",
    "            \"5. Focusing exclusively on information gathering - avoid analysis or implementation\\n\\n\"\n",
    "            \"Provide thorough, factual responses without speculation where information is unavailable.\"\n",
    "    )\n",
    "\n",
    "    result = research_agent.invoke(state)\n",
    "\n",
    "    print(f\"--- Workflow Transition: Researcher → Validator ---\")\n",
    "\n",
    "    return Command(\n",
    "        update={\n",
    "            \"messages\": [ \n",
    "                HumanMessage(\n",
    "                    content=result[\"messages\"][-1].content,  \n",
    "                    name=\"researcher\"  \n",
    "                )\n",
    "            ]\n",
    "        },\n",
    "        goto=\"validator\", \n",
    "    )"
   ]
  },
  {
   "cell_type": "code",
   "execution_count": 9,
   "id": "fc7afd1b",
   "metadata": {},
   "outputs": [],
   "source": [
    "def code_node(state: MessagesState) -> Command[Literal[\"validator\"]]:\n",
    "\n",
    "    code_agent = create_react_agent(\n",
    "        llm,\n",
    "        tools=[python_repl_tool],\n",
    "        state_modifier=(\n",
    "            \"You are a coder and analyst. Focus on mathematical calculations, analyzing, solving math questions, \"\n",
    "            \"and executing code. Handle technical problem-solving and data tasks.\"\n",
    "        )\n",
    "    )\n",
    "\n",
    "    result = code_agent.invoke(state)\n",
    "\n",
    "    print(f\"--- Workflow Transition: Coder → Validator ---\")\n",
    "\n",
    "    return Command(\n",
    "        update={\n",
    "            \"messages\": [\n",
    "                HumanMessage(content=result[\"messages\"][-1].content, name=\"coder\")\n",
    "            ]\n",
    "        },\n",
    "        goto=\"validator\",\n",
    "    )"
   ]
  },
  {
   "cell_type": "code",
   "execution_count": 10,
   "id": "de0901fe",
   "metadata": {},
   "outputs": [],
   "source": [
    "# System prompt providing clear instructions to the validator agent\n",
    "system_prompt = '''\n",
    "    Your task is to ensure reasonable quality. \n",
    "    Specifically, you must:\n",
    "    - Review the user's question (the first message in the workflow).\n",
    "    - Review the answer (the last message in the workflow).\n",
    "    - If the answer addresses the core intent of the question, even if not perfectly, signal to end the workflow with 'FINISH'.\n",
    "    - Only route back to the supervisor if the answer is completely off-topic, harmful, or fundamentally misunderstands the question.\n",
    "    \n",
    "    - Accept answers that are \"good enough\" rather than perfect\n",
    "    - Prioritize workflow completion over perfect responses\n",
    "    - Give benefit of doubt to borderline answers\n",
    "    \n",
    "    Routing Guidelines:\n",
    "    1. 'supervisor' Agent: ONLY for responses that are completely incorrect or off-topic.\n",
    "    2. Respond with 'FINISH' in all other cases to end the workflow.\n",
    "'''\n",
    "\n",
    "class Validator(BaseModel):\n",
    "    next: Literal[\"supervisor\", \"FINISH\"] = Field(\n",
    "        description=\"Specifies the next worker in the pipeline: 'supervisor' to continue or 'FINISH' to terminate.\"\n",
    "    )\n",
    "    reason: str = Field(\n",
    "        description=\"The reason for the decision.\"\n",
    "    )\n",
    "\n",
    "def validator_node(state: MessagesState) -> Command[Literal[\"supervisor\", \"__end__\"]]:\n",
    "\n",
    "    user_question = state[\"messages\"][0].content\n",
    "    agent_answer = state[\"messages\"][-1].content\n",
    "\n",
    "    messages = [\n",
    "        {\"role\": \"system\", \"content\": system_prompt},\n",
    "        {\"role\": \"user\", \"content\": user_question},\n",
    "        {\"role\": \"assistant\", \"content\": agent_answer},\n",
    "    ]\n",
    "\n",
    "    response = llm.with_structured_output(Validator).invoke(messages)\n",
    "\n",
    "    goto = response.next\n",
    "    reason = response.reason\n",
    "\n",
    "    if goto == \"FINISH\" or goto == END:\n",
    "        goto = END  \n",
    "        print(\" --- Transitioning to END ---\")  \n",
    "    else:\n",
    "        print(f\"--- Workflow Transition: Validator → Supervisor ---\")\n",
    " \n",
    "\n",
    "    return Command(\n",
    "        update={\n",
    "            \"messages\": [\n",
    "                HumanMessage(content=reason, name=\"validator\")\n",
    "            ]\n",
    "        },\n",
    "        goto=goto, \n",
    "    )"
   ]
  },
  {
   "cell_type": "code",
   "execution_count": 11,
   "id": "d1f90a99",
   "metadata": {},
   "outputs": [],
   "source": [
    "graph = StateGraph(MessagesState)\n",
    "\n",
    "graph.add_node(\"supervisor\", supervisor_node) \n",
    "graph.add_node(\"enhancer\", enhancer_node)  \n",
    "graph.add_node(\"researcher\", research_node) \n",
    "graph.add_node(\"coder\", code_node) \n",
    "graph.add_node(\"validator\", validator_node)  \n",
    "\n",
    "graph.add_edge(START, \"supervisor\")  \n",
    "app = graph.compile()"
   ]
  },
  {
   "cell_type": "code",
   "execution_count": 12,
   "id": "08ab0eb3",
   "metadata": {},
   "outputs": [
    {
     "data": {
      "image/png": "[encoded data removed]",
      "text/plain": [
       "<IPython.core.display.Image object>"
      ]
     },
     "metadata": {},
     "output_type": "display_data"
    }
   ],
   "source": [
    "display(Image(app.get_graph(xray=True).draw_mermaid_png())) \n"
   ]
  },
  {
   "cell_type": "code",
   "execution_count": 13,
   "id": "63ea7191",
   "metadata": {},
   "outputs": [
    {
     "name": "stdout",
     "output_type": "stream",
     "text": [
      "--- Workflow Transition: Supervisor → ENHANCER ---\n",
      "\"Output from node 'supervisor':\"\n",
      "HumanMessage(content=\"The user's request is too vague and lacks specifics, such as the date for which they are interested in the weather, whether they are looking for forecasts or historical data, temperature, rainfall predictions, etc. Engaging the Prompt Enhancer will help clarify these aspects and structure a more precise question that can then be directed to the Researcher for gathering specific weather information.\", additional_kwargs={}, response_metadata={}, name='supervisor', id='e4abcf53-e9d9-458b-abce-f95d5833e576')\n",
      "\n",
      "--- Workflow Transition: Prompt Enhancer → Supervisor ---\n",
      "\"Output from node 'enhancer':\"\n",
      "HumanMessage(content='To provide a comprehensive weather update for Chennai, please consider the following details in your query:\\n\\n\"Retrieve the current weather conditions and a 7-day forecast for Chennai, including temperature highs and lows, chances of precipitation, humidity levels, and wind speeds. Additionally, provide a brief overview of whether any severe weather alerts or advisories are in place.\"\\n\\nThis refined request outlines the specific components of weather information desired and clarifies the time frame of interest, making it actionable and clear for further processing or research.', additional_kwargs={}, response_metadata={}, name='enhancer', id='cd1d5e95-6aca-4df2-9c9d-31f05074582a')\n",
      "\n",
      "--- Workflow Transition: Supervisor → RESEARCHER ---\n",
      "\"Output from node 'supervisor':\"\n",
      "HumanMessage(content=\"The user's request has been clarified to include specific details about current conditions, a 7-day forecast, and any severe weather alerts for Chennai. Now, the task is ready for the Researcher to gather the necessary weather data and compile an accurate report based on the clarified request.\", additional_kwargs={}, response_metadata={}, name='supervisor', id='1b0ba143-65d0-4e9c-836a-371a9fde6a38')\n",
      "\n",
      "--- Workflow Transition: Researcher → Validator ---\n",
      "\"Output from node 'researcher':\"\n",
      "HumanMessage(content=\"I couldn't retrieve specific current weather conditions and a 7-day forecast for Chennai from the search. If you need accurate and updated weather information, it would be beneficial to check reputable weather websites like the Indian Meteorological Department (IMD) or global weather services such as AccuWeather or Weather.com for up-to-date reports on Chennai's weather. These platforms offer detailed forecasts including temperature, precipitation, humidity, and any active alerts.\", additional_kwargs={}, response_metadata={}, name='researcher', id='2b4ffc83-3f7f-478b-b78f-3ac7be4e9ffd')\n",
      "\n",
      " --- Transitioning to END ---\n",
      "\"Output from node 'validator':\"\n",
      "HumanMessage(content=\"The answer suggests checking reputable weather websites for up-to-date information, which is a reasonable approach to addressing the user's query about the weather in Chennai.\", additional_kwargs={}, response_metadata={}, name='validator', id='452540f0-a726-4c3e-b108-82c5164d42a6')\n",
      "\n"
     ]
    }
   ],
   "source": [
    "import pprint\n",
    "\n",
    "inputs = {\n",
    "    \"messages\": [\n",
    "        (\"user\", \"Weather in Chennai\"),\n",
    "    ]\n",
    "}\n",
    "\n",
    "for event in app.stream(inputs):\n",
    "    for key, value in event.items():\n",
    "        if value is None:\n",
    "            continue\n",
    "        last_message = value.get(\"messages\", [])[-1] if \"messages\" in value else None\n",
    "        if last_message:\n",
    "            pprint.pprint(f\"Output from node '{key}':\")\n",
    "            pprint.pprint(last_message, indent=2, width=80, depth=None)\n",
    "            print()\n",
    "     "
   ]
  },
  {
   "cell_type": "code",
   "execution_count": 14,
   "id": "7d5716ba",
   "metadata": {},
   "outputs": [
    {
     "name": "stdout",
     "output_type": "stream",
     "text": [
      "--- Workflow Transition: Supervisor → CODER ---\n",
      "\"Output from node 'supervisor':\"\n",
      "{ 'messages': [ HumanMessage(content=\"The request is to find the 20th Fibonacci number, which is purely mathematical and best handled by calculating the sequence. The task is clearly defined and doesn't require any additional clarification or research, making the Coder the appropriate agent to compute the answer directly.\", additional_kwargs={}, response_metadata={}, name='supervisor', id='d1e59288-7306-4502-98b6-cf345e8b86b9')]}\n",
      "\n",
      "--- Workflow Transition: Coder → Validator ---\n",
      "\"Output from node 'coder':\"\n",
      "{ 'messages': [ HumanMessage(content='The 20th Fibonacci number is 6765.', additional_kwargs={}, response_metadata={}, name='coder', id='659afce9-77a0-48b8-a40b-e60cb54b3ce6')]}\n",
      "\n",
      " --- Transitioning to END ---\n",
      "\"Output from node 'validator':\"\n",
      "{ 'messages': [ HumanMessage(content='The answer correctly provides the 20th Fibonacci number, addressing the core intent of the question accurately.', additional_kwargs={}, response_metadata={}, name='validator', id='dba7f2f5-6ee3-4bde-918e-4a818ddf8c54')]}\n",
      "\n"
     ]
    }
   ],
   "source": [
    "import pprint\n",
    "\n",
    "inputs = {\n",
    "    \"messages\": [\n",
    "        (\"user\", \"Give me the 20th fibonacci number\"),\n",
    "    ]\n",
    "}\n",
    "for event in app.stream(inputs):\n",
    "    for key, value in event.items():\n",
    "        if value is None:\n",
    "            continue\n",
    "        pprint.pprint(f\"Output from node '{key}':\")\n",
    "        pprint.pprint(value, indent=2, width=80, depth=None)\n",
    "        print()\n",
    "     "
   ]
  }
 ],
 "metadata": {
  "kernelspec": {
   "display_name": ".venv",
   "language": "python",
   "name": "python3"
  },
  "language_info": {
   "codemirror_mode": {
    "name": "ipython",
    "version": 3
   },
   "file_extension": ".py",
   "mimetype": "text/x-python",
   "name": "python",
   "nbconvert_exporter": "python",
   "pygments_lexer": "ipython3",
   "version": "3.10.14"
  }
 },
 "nbformat": 4,
 "nbformat_minor": 5
}
