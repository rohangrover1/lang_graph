{
 "cells": [
  {
   "cell_type": "code",
   "execution_count": 1,
   "id": "d9aeecee",
   "metadata": {},
   "outputs": [],
   "source": [
    "from typing import TypedDict\n",
    "from langgraph.graph import END, StateGraph"
   ]
  },
  {
   "cell_type": "code",
   "execution_count": 2,
   "id": "18d37280",
   "metadata": {},
   "outputs": [],
   "source": [
    "class SimpleState(TypedDict):\n",
    "    count: int"
   ]
  },
  {
   "cell_type": "code",
   "execution_count": null,
   "id": "81e18a88",
   "metadata": {},
   "outputs": [],
   "source": [
    "def increment(state: SimpleState) -> SimpleState: \n",
    "    print(type(state))\n",
    "    return {\n",
    "        \"count\": state[\"count\"] + 1\n",
    "    }"
   ]
  },
  {
   "cell_type": "code",
   "execution_count": 4,
   "id": "29c21a12",
   "metadata": {},
   "outputs": [],
   "source": [
    "def should_continue(state):\n",
    "    if(state[\"count\"] < 5): \n",
    "        return \"continue\"\n",
    "    else: \n",
    "        return \"stop\""
   ]
  },
  {
   "cell_type": "code",
   "execution_count": 5,
   "id": "695ccf1d",
   "metadata": {},
   "outputs": [
    {
     "data": {
      "text/plain": [
       "<langgraph.graph.state.StateGraph at 0x10b594a60>"
      ]
     },
     "execution_count": 5,
     "metadata": {},
     "output_type": "execute_result"
    }
   ],
   "source": [
    "graph = StateGraph(SimpleState)\n",
    "graph.add_node(\"increment\", increment)\n",
    "graph.set_entry_point(\"increment\")\n",
    "graph.add_conditional_edges(\n",
    "    \"increment\", \n",
    "    should_continue, \n",
    "    {\n",
    "        \"continue\": \"increment\", \n",
    "        \"stop\": END\n",
    "    }\n",
    ")"
   ]
  },
  {
   "cell_type": "code",
   "execution_count": 6,
   "id": "d811e9a2",
   "metadata": {},
   "outputs": [],
   "source": [
    "app = graph.compile()\n",
    "\n"
   ]
  },
  {
   "cell_type": "code",
   "execution_count": 7,
   "id": "ef084122",
   "metadata": {},
   "outputs": [
    {
     "name": "stdout",
     "output_type": "stream",
     "text": [
      "{'count': 5}\n"
     ]
    }
   ],
   "source": [
    "state = {\n",
    "    \"count\": 0\n",
    "}\n",
    "result = app.invoke(state)\n",
    "print(result)"
   ]
  }
 ],
 "metadata": {
  "kernelspec": {
   "display_name": ".venv",
   "language": "python",
   "name": "python3"
  },
  "language_info": {
   "codemirror_mode": {
    "name": "ipython",
    "version": 3
   },
   "file_extension": ".py",
   "mimetype": "text/x-python",
   "name": "python",
   "nbconvert_exporter": "python",
   "pygments_lexer": "ipython3",
   "version": "3.10.14"
  }
 },
 "nbformat": 4,
 "nbformat_minor": 5
}
